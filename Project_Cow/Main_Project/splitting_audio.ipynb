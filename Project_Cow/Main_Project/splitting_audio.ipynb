{
 "cells": [
  {
   "cell_type": "code",
   "execution_count": 18,
   "metadata": {},
   "outputs": [
    {
     "name": "stdout",
     "output_type": "stream",
     "text": [
      "Exported moo_17.wav\n",
      "Exported moo_18.wav\n",
      "Exported moo_19.wav\n",
      "Exported moo_20.wav\n",
      "Exported moo_21.wav\n",
      "Exported moo_22.wav\n",
      "Exported moo_23.wav\n",
      "Audio splitting complete.\n"
     ]
    }
   ],
   "source": [
    "from pydub import AudioSegment\n",
    "import math\n",
    "\n",
    "# Load the one-hour-long audio file\n",
    "input_audio_path = 'm_13.wav'  # Replace with your actual file path\n",
    "audio = AudioSegment.from_wav(input_audio_path)\n",
    "\n",
    "# Define the length of each segment in milliseconds\n",
    "segment_length = 10 * 1000  # 10 seconds in milliseconds\n",
    "\n",
    "# Calculate the number of segments\n",
    "num_segments = math.ceil(len(audio) / segment_length)\n",
    "\n",
    "# Define the starting index for the output files (continuing from moo_17)\n",
    "start_index = 17\n",
    "\n",
    "# Split and save each segment\n",
    "for i in range(num_segments):\n",
    "    start_time = i * segment_length\n",
    "    end_time = start_time + segment_length\n",
    "    \n",
    "    # Extract the segment\n",
    "    segment = audio[start_time:end_time]\n",
    "    \n",
    "    # Define the output filename\n",
    "    output_filename = f'moo_{start_index + i}.wav'\n",
    "    \n",
    "    # Export the segment\n",
    "    segment.export(output_filename, format=\"wav\")\n",
    "    \n",
    "    print(f\"Exported {output_filename}\")\n",
    "\n",
    "print(\"Audio splitting complete.\")\n"
   ]
  },
  {
   "cell_type": "code",
   "execution_count": null,
   "metadata": {},
   "outputs": [],
   "source": []
  }
 ],
 "metadata": {
  "kernelspec": {
   "display_name": "base",
   "language": "python",
   "name": "python3"
  },
  "language_info": {
   "codemirror_mode": {
    "name": "ipython",
    "version": 3
   },
   "file_extension": ".py",
   "mimetype": "text/x-python",
   "name": "python",
   "nbconvert_exporter": "python",
   "pygments_lexer": "ipython3",
   "version": "3.11.7"
  }
 },
 "nbformat": 4,
 "nbformat_minor": 2
}

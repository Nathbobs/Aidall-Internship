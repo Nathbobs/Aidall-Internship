{
 "cells": [
  {
   "cell_type": "code",
   "execution_count": null,
   "metadata": {},
   "outputs": [],
   "source": [
    "import os\n",
    "import librosa\n",
    "import numpy as np\n",
    "import soundfile as sf\n",
    "import tensorflow as tf\n",
    "from tensorflow.keras import layers, models"
   ]
  },
  {
   "cell_type": "code",
   "execution_count": null,
   "metadata": {},
   "outputs": [],
   "source": [
    "# Paths\n",
    "base_path = os.path.abspath(\"..\")\n",
    "main_project_path = os.path.join(base_path, 'Main_Project')\n",
    "raw_cow_path = os.path.join(main_project_path, 'RAW_Cow_Unclassified')\n",
    "noise_path = os.path.join(main_project_path, 'Noise')\n",
    "output_path = os.path.join(main_project_path, 'noise2noise_Denoised_Unclassified_Cow_1')\n",
    "\n",
    "# Create output directory if it doesn't exist\n",
    "os.makedirs(output_path, exist_ok=True)\n"
   ]
  }
 ],
 "metadata": {
  "language_info": {
   "name": "python"
  }
 },
 "nbformat": 4,
 "nbformat_minor": 2
}

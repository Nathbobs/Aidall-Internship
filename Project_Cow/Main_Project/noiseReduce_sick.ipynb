{
 "cells": [
  {
   "cell_type": "code",
   "execution_count": 3,
   "metadata": {},
   "outputs": [],
   "source": [
    "#removing noise by trial and errors\n",
    "import librosa\n",
    "import librosa.display\n",
    "import matplotlib.pyplot as plt\n",
    "import os\n",
    "import soundfile as sf\n",
    "import noisereduce as nr\n",
    "import numpy as np\n"
   ]
  },
  {
   "cell_type": "code",
   "execution_count": 12,
   "metadata": {},
   "outputs": [],
   "source": [
    "#Defining my paths\n",
    "base_path = os.path.abspath(\"..\")  # Points to Project_Cow\n",
    "main_project_path = os.path.join(base_path, 'Main_Project')\n",
    "raw_sick_cow_path = os.path.join(main_project_path, 'RAW_Sick_Cow')\n",
    "noise_path = os.path.join(main_project_path, 'Noise')\n",
    "output_path = os.path.join(main_project_path, 'Denoised_Sick_Cow')\n",
    "\n",
    "# Create output directory if it doesn't exist\n",
    "if not os.path.exists(output_path):\n",
    "    os.makedirs(output_path)\n",
    "\n"
   ]
  },
  {
   "cell_type": "code",
   "execution_count": 13,
   "metadata": {},
   "outputs": [],
   "source": [
    "#Loading noise profiles\n",
    "def load_noise_profiles(noise_dir, sample_rate=16000):\n",
    "    noise_profiles = []\n",
    "    for noise_file in os.listdir(noise_dir):\n",
    "        if noise_file.endswith('.wav'):\n",
    "            noise_audio, _ = librosa.load(os.path.join(noise_dir, noise_file), sr=sample_rate)\n",
    "            noise_profiles.append(noise_audio)\n",
    "    return noise_profiles\n",
    "\n",
    "noise_profiles = load_noise_profiles(noise_path)\n",
    "\n"
   ]
  },
  {
   "cell_type": "code",
   "execution_count": 14,
   "metadata": {},
   "outputs": [
    {
     "name": "stdout",
     "output_type": "stream",
     "text": [
      "Saved: /Users/nathbobs/Documents/Aidall Internship/Project_Cow/Main_Project/Denoised_Sick_Cow/denoised_Sick_moo_15.wav\n"
     ]
    },
    {
     "name": "stderr",
     "output_type": "stream",
     "text": [
      "/opt/anaconda3/lib/python3.11/site-packages/noisereduce/spectralgate/nonstationary.py:71: RuntimeWarning: invalid value encountered in divide\n",
      "  sig_mult_above_thresh = (abs_sig_stft - sig_stft_smooth) / sig_stft_smooth\n"
     ]
    },
    {
     "name": "stdout",
     "output_type": "stream",
     "text": [
      "Saved: /Users/nathbobs/Documents/Aidall Internship/Project_Cow/Main_Project/Denoised_Sick_Cow/denoised_Sick_moo_16.wav\n",
      "Saved: /Users/nathbobs/Documents/Aidall Internship/Project_Cow/Main_Project/Denoised_Sick_Cow/denoised_Sick_moo_12.wav\n",
      "Saved: /Users/nathbobs/Documents/Aidall Internship/Project_Cow/Main_Project/Denoised_Sick_Cow/denoised_Sick_moo_10.wav\n",
      "Saved: /Users/nathbobs/Documents/Aidall Internship/Project_Cow/Main_Project/Denoised_Sick_Cow/denoised_Sick_moo_11.wav\n",
      "Saved: /Users/nathbobs/Documents/Aidall Internship/Project_Cow/Main_Project/Denoised_Sick_Cow/denoised_Sick_moo_2.wav\n",
      "Saved: /Users/nathbobs/Documents/Aidall Internship/Project_Cow/Main_Project/Denoised_Sick_Cow/denoised_Sick_moo_3.wav\n",
      "Saved: /Users/nathbobs/Documents/Aidall Internship/Project_Cow/Main_Project/Denoised_Sick_Cow/denoised_Sick_moo_7.wav\n",
      "Saved: /Users/nathbobs/Documents/Aidall Internship/Project_Cow/Main_Project/Denoised_Sick_Cow/denoised_Sick_moo_6.wav\n",
      "Saved: /Users/nathbobs/Documents/Aidall Internship/Project_Cow/Main_Project/Denoised_Sick_Cow/denoised_Sick_moo_4.wav\n",
      "Saved: /Users/nathbobs/Documents/Aidall Internship/Project_Cow/Main_Project/Denoised_Sick_Cow/denoised_Sick_moo_5.wav\n",
      "Saved: /Users/nathbobs/Documents/Aidall Internship/Project_Cow/Main_Project/Denoised_Sick_Cow/denoised_Sick_moo_8.wav\n",
      "Saved: /Users/nathbobs/Documents/Aidall Internship/Project_Cow/Main_Project/Denoised_Sick_Cow/denoised_Sick_moo_9.wav\n",
      "Saved: /Users/nathbobs/Documents/Aidall Internship/Project_Cow/Main_Project/Denoised_Sick_Cow/denoised_Sick_moo_20.wav\n",
      "Saved: /Users/nathbobs/Documents/Aidall Internship/Project_Cow/Main_Project/Denoised_Sick_Cow/denoised_Sick_moo_21.wav\n",
      "Saved: /Users/nathbobs/Documents/Aidall Internship/Project_Cow/Main_Project/Denoised_Sick_Cow/denoised_Sick_moo_23.wav\n",
      "Saved: /Users/nathbobs/Documents/Aidall Internship/Project_Cow/Main_Project/Denoised_Sick_Cow/denoised_Sick_moo_22.wav\n",
      "Saved: /Users/nathbobs/Documents/Aidall Internship/Project_Cow/Main_Project/Denoised_Sick_Cow/denoised_Sick_moo_19.wav\n",
      "Saved: /Users/nathbobs/Documents/Aidall Internship/Project_Cow/Main_Project/Denoised_Sick_Cow/denoised_Sick_moo_18.wav\n"
     ]
    }
   ],
   "source": [
    "def denoise_and_save(raw_dir, noise_profiles, output_dir, sample_rate=16000):\n",
    "    for raw_file in os.listdir(raw_dir):\n",
    "        if raw_file.endswith('.wav'):\n",
    "            # Load the raw sick cow audio\n",
    "            raw_audio, _ = librosa.load(os.path.join(raw_dir, raw_file), sr=sample_rate)\n",
    "\n",
    "            # Initialize a denoised audio array\n",
    "            denoised_audio = np.zeros_like(raw_audio)\n",
    "\n",
    "            # Apply noise reduction using each noise profile\n",
    "            for noise_profile in noise_profiles:\n",
    "                denoised_segment = nr.reduce_noise(y=raw_audio, y_noise=noise_profile, sr=sample_rate)\n",
    "                denoised_audio += denoised_segment\n",
    "\n",
    "            # Average the denoised results if multiple noise profiles were used\n",
    "            if len(noise_profiles) > 1:\n",
    "                denoised_audio /= len(noise_profiles)\n",
    "\n",
    "            # Save the denoised audio to the output directory\n",
    "            output_file = os.path.join(output_dir, f'denoised_{raw_file}')\n",
    "            sf.write(output_file, denoised_audio, sample_rate)\n",
    "            print(f'Saved: {output_file}')\n",
    "\n",
    "# Apply denoising\n",
    "denoise_and_save(raw_sick_cow_path, noise_profiles, output_path)\n"
   ]
  },
  {
   "cell_type": "code",
   "execution_count": null,
   "metadata": {},
   "outputs": [],
   "source": []
  }
 ],
 "metadata": {
  "kernelspec": {
   "display_name": "base",
   "language": "python",
   "name": "python3"
  },
  "language_info": {
   "codemirror_mode": {
    "name": "ipython",
    "version": 3
   },
   "file_extension": ".py",
   "mimetype": "text/x-python",
   "name": "python",
   "nbconvert_exporter": "python",
   "pygments_lexer": "ipython3",
   "version": "3.11.7"
  }
 },
 "nbformat": 4,
 "nbformat_minor": 2
}
